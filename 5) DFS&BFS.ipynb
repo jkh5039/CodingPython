{
 "cells": [
  {
   "cell_type": "code",
   "execution_count": 9,
   "metadata": {},
   "outputs": [
    {
     "data": {
      "text/html": [
       "<style>.container { width:95% !important; }</style>"
      ],
      "text/plain": [
       "<IPython.core.display.HTML object>"
      ]
     },
     "metadata": {},
     "output_type": "display_data"
    },
    {
     "data": {
      "text/html": [
       "<style>.input_area pre {font-family: Consolas; font-size: 12pt; line-height: 120%;}</style>"
      ],
      "text/plain": [
       "<IPython.core.display.HTML object>"
      ]
     },
     "metadata": {},
     "output_type": "display_data"
    },
    {
     "data": {
      "text/html": [
       "<style>.output_area pre {font-family: Consolas; font-size: 12pt; line-height: 120%;}</style>"
      ],
      "text/plain": [
       "<IPython.core.display.HTML object>"
      ]
     },
     "metadata": {},
     "output_type": "display_data"
    }
   ],
   "source": [
    "from IPython.core.display import display, HTML\n",
    "display(HTML(\"<style>.container { width:95% !important; }</style>\"))\n",
    "display(HTML(\"<style>.input_area pre {font-family: Consolas; font-size: 12pt; line-height: 120%;}</style>\"))\n",
    "display(HTML(\"<style>.output_area pre {font-family: Consolas; font-size: 12pt; line-height: 120%;}</style>\"))\n",
    "\n",
    "\n",
    "from IPython.core.interactiveshell import InteractiveShell\n",
    "InteractiveShell.ast_node_interactivity = 'all'\n"
   ]
  },
  {
   "cell_type": "markdown",
   "metadata": {},
   "source": [
    "# data structure basis"
   ]
  },
  {
   "cell_type": "markdown",
   "metadata": {},
   "source": [
    "## Stack\n"
   ]
  },
  {
   "cell_type": "code",
   "execution_count": 10,
   "metadata": {},
   "outputs": [
    {
     "name": "stdout",
     "output_type": "stream",
     "text": [
      "['2', '6', '1', '8', '3']\n"
     ]
    },
    {
     "data": {
      "text/plain": [
       "'3'"
      ]
     },
     "execution_count": 10,
     "metadata": {},
     "output_type": "execute_result"
    },
    {
     "name": "stdout",
     "output_type": "stream",
     "text": [
      "['2', '6', '1', '8']\n"
     ]
    }
   ],
   "source": [
    "# Stack\n",
    "# 날리면 제일 뒤에거 날린다 = 최근에 온거 날린다\n",
    "stack = []\n",
    "stack.append('2')\n",
    "stack.append('6')\n",
    "stack.append('1')\n",
    "stack.append('8')\n",
    "stack.append('3')\n",
    "print(stack)\n",
    "stack.pop()\n",
    "print(stack)"
   ]
  },
  {
   "cell_type": "markdown",
   "metadata": {},
   "source": [
    "## Queue\n"
   ]
  },
  {
   "cell_type": "code",
   "execution_count": 11,
   "metadata": {},
   "outputs": [
    {
     "name": "stdout",
     "output_type": "stream",
     "text": [
      "deque(['2', '6', '1', '8', '3'])\n"
     ]
    },
    {
     "data": {
      "text/plain": [
       "'2'"
      ]
     },
     "execution_count": 11,
     "metadata": {},
     "output_type": "execute_result"
    },
    {
     "name": "stdout",
     "output_type": "stream",
     "text": [
      "deque(['6', '1', '8', '3'])\n"
     ]
    }
   ],
   "source": [
    "# Queue\n",
    "from collections import deque\n",
    "queue = deque()\n",
    "queue.append('2')\n",
    "queue.append('6')\n",
    "queue.append('1')\n",
    "queue.append('8')\n",
    "queue.append('3')\n",
    "print(queue)\n",
    "queue.popleft()\n",
    "print(queue)"
   ]
  },
  {
   "cell_type": "code",
   "execution_count": 12,
   "metadata": {},
   "outputs": [],
   "source": [
    "#재귀\n",
    "def recursive_function():\n",
    "    print(\"재귀 함수 호출\")\n",
    "    recursive_function()\n",
    "# recursive_function()\n"
   ]
  },
  {
   "cell_type": "code",
   "execution_count": 13,
   "metadata": {},
   "outputs": [
    {
     "name": "stdout",
     "output_type": "stream",
     "text": [
      "0 번째 재귀 함수에서 1 번째 재귀 함수를 호출합니다\n",
      "1 번째 재귀 함수에서 2 번째 재귀 함수를 호출합니다\n",
      "2 번째 재귀 함수에서 3 번째 재귀 함수를 호출합니다\n",
      "3 번째 재귀 함수에서 4 번째 재귀 함수를 호출합니다\n",
      "4 번째 재귀 함수에서 5 번째 재귀 함수를 호출합니다\n",
      "5 번째 재귀 함수에서 6 번째 재귀 함수를 호출합니다\n",
      "6 번째 재귀 함수에서 7 번째 재귀 함수를 호출합니다\n",
      "7 번째 재귀 함수에서 8 번째 재귀 함수를 호출합니다\n",
      "8 번째 재귀 함수에서 9 번째 재귀 함수를 호출합니다\n",
      "9 번째 재귀 함수에서 10 번째 재귀 함수를 호출합니다\n",
      "10 번째 재귀 함수에서 11 번째 재귀 함수를 호출합니다\n",
      "11 번째 재귀 함수에서 12 번째 재귀 함수를 호출합니다\n",
      "12 번째 재귀 함수에서 13 번째 재귀 함수를 호출합니다\n",
      "13 번째 재귀 함수에서 14 번째 재귀 함수를 호출합니다\n",
      "14 번째 재귀 함수에서 15 번째 재귀 함수를 호출합니다\n",
      "15 번째 재귀 함수에서 16 번째 재귀 함수를 호출합니다\n",
      "16 번째 재귀 함수에서 17 번째 재귀 함수를 호출합니다\n",
      "16 번쨰 재귀 함수를 종료합니다\n",
      "15 번쨰 재귀 함수를 종료합니다\n",
      "14 번쨰 재귀 함수를 종료합니다\n",
      "13 번쨰 재귀 함수를 종료합니다\n",
      "12 번쨰 재귀 함수를 종료합니다\n",
      "11 번쨰 재귀 함수를 종료합니다\n",
      "10 번쨰 재귀 함수를 종료합니다\n",
      "9 번쨰 재귀 함수를 종료합니다\n",
      "8 번쨰 재귀 함수를 종료합니다\n",
      "7 번쨰 재귀 함수를 종료합니다\n",
      "6 번쨰 재귀 함수를 종료합니다\n",
      "5 번쨰 재귀 함수를 종료합니다\n",
      "4 번쨰 재귀 함수를 종료합니다\n",
      "3 번쨰 재귀 함수를 종료합니다\n",
      "2 번쨰 재귀 함수를 종료합니다\n",
      "1 번쨰 재귀 함수를 종료합니다\n",
      "0 번쨰 재귀 함수를 종료합니다\n"
     ]
    }
   ],
   "source": [
    "def recur_function(i):\n",
    "    if(i == 17):\n",
    "        return\n",
    "    print(i, '번째 재귀 함수에서', i+1, '번째 재귀 함수를 호출합니다')\n",
    "    recur_function(i+1)\n",
    "    print(i, '번쨰 재귀 함수를 종료합니다')\n",
    "\n",
    "\n",
    "recur_function(0)"
   ]
  },
  {
   "cell_type": "markdown",
   "metadata": {},
   "source": [
    "# 탐색 알고리즘 DFS/BFS"
   ]
  },
  {
   "cell_type": "markdown",
   "metadata": {},
   "source": [
    "## DFS"
   ]
  },
  {
   "cell_type": "code",
   "execution_count": 15,
   "metadata": {},
   "outputs": [
    {
     "name": "stdout",
     "output_type": "stream",
     "text": [
      "[[0, 7, 5], [7, 0, 999999999], [5, 999999999, 0]]\n"
     ]
    }
   ],
   "source": [
    "#인접 행렬 방식 예제\n",
    "inf= 999999999\n",
    "\n",
    "graph= [\n",
    "    [0,7,5],\n",
    "    [7,0,inf],\n",
    "    [5,inf,0]\n",
    "]\n",
    "print(graph)"
   ]
  },
  {
   "cell_type": "code",
   "execution_count": 24,
   "metadata": {},
   "outputs": [
    {
     "name": "stdout",
     "output_type": "stream",
     "text": [
      "[[], [], []]\n",
      "[[(1, 7), (2, 5)], [(0, 7), (3, 6)], [(0, 5)]]\n"
     ]
    }
   ],
   "source": [
    "#인접 리스트 방식 예제\n",
    "graph= [[] for _ in range(3)]\n",
    "print(graph)\n",
    "graph[0].append((1,7))\n",
    "graph[0].append((2,5))\n",
    "\n",
    "graph[1].append((0,7))\n",
    "graph[1].append((3,6))\n",
    "graph[2].append((0,5))\n",
    "\n",
    "\n",
    "print(graph)"
   ]
  },
  {
   "cell_type": "code",
   "execution_count": 52,
   "metadata": {},
   "outputs": [
    {
     "name": "stdout",
     "output_type": "stream",
     "text": [
      "[False, False, False, False, False, False, False, False, False]\n",
      "1 2 7 6 8 3 4 5 "
     ]
    }
   ],
   "source": [
    "#DFS 예제 stack\n",
    "def dfs(graph, v, visited):\n",
    "    visited[v]= True\n",
    "    print(v, end=' ')\n",
    "    \n",
    "    for i in graph[v]:\n",
    "        if visited[i]==False:\n",
    "            dfs(graph,i,visited)\n",
    "\n",
    "graph= [\n",
    "    [],\n",
    "    [2,3,8],\n",
    "    [1,7],\n",
    "    [1,4,5],\n",
    "    [3,5],\n",
    "    [3,4],\n",
    "    [7],\n",
    "    [2,6,8],\n",
    "    [1,7]\n",
    "    \n",
    "]\n",
    "\n",
    "visited=[False]*9\n",
    "print(visited)\n",
    "dfs(graph,1,visited)"
   ]
  },
  {
   "cell_type": "markdown",
   "metadata": {},
   "source": [
    "## BFS"
   ]
  },
  {
   "cell_type": "code",
   "execution_count": 2,
   "metadata": {
    "scrolled": true
   },
   "outputs": [
    {
     "name": "stdout",
     "output_type": "stream",
     "text": [
      "1 2 3 8 7 4 5 6 "
     ]
    }
   ],
   "source": [
    "#queue\n",
    "from collections import deque\n",
    "\n",
    "def bfs(graph, start, visited):\n",
    "    queue= deque([start])\n",
    "    visited[start]=True\n",
    "    while(queue):\n",
    "        v= queue.popleft()\n",
    "        print(v,end=' ')\n",
    "        \n",
    "        for i in graph[v]:\n",
    "            if visited[i]==False:\n",
    "                queue.append(i)\n",
    "                visited[i]= True\n",
    "\n",
    "graph= [\n",
    "    [],\n",
    "    [2,3,8],\n",
    "    [1,7],\n",
    "    [1,4,5],\n",
    "    [3,5],\n",
    "    [3,4],\n",
    "    [7],\n",
    "    [2,6,8],\n",
    "    [1,7]\n",
    "    \n",
    "]\n",
    "visited=[False]*9\n",
    "# print(visited)\n",
    "bfs(graph,1,visited)\n",
    "\n"
   ]
  },
  {
   "cell_type": "code",
   "execution_count": 1,
   "metadata": {},
   "outputs": [
    {
     "name": "stdout",
     "output_type": "stream",
     "text": [
      "1 2 3 8 7 4 5 6 "
     ]
    }
   ],
   "source": [
    "#copied\n",
    "from collections import deque\n",
    "\n",
    "# BFS 함수 정의\n",
    "def bfs(graph, start, visited):\n",
    "    # 큐(Queue) 구현을 위해 deque 라이브러리 사용\n",
    "    queue = deque([start])\n",
    "    # 현재 노드를 방문 처리\n",
    "    visited[start] = True\n",
    "    # 큐가 빌 때까지 반복\n",
    "    while queue:\n",
    "        # 큐에서 하나의 원소를 뽑아 출력\n",
    "        v = queue.popleft()\n",
    "        print(v, end=' ')\n",
    "        # 해당 원소와 연결된, 아직 방문하지 않은 원소들을 큐에 삽입\n",
    "        for i in graph[v]:\n",
    "            if not visited[i]:\n",
    "                queue.append(i)\n",
    "                visited[i] = True\n",
    "\n",
    "# 각 노드가 연결된 정보를 리스트 자료형으로 표현(2차원 리스트)\n",
    "graph = [\n",
    "  [],\n",
    "  [2, 3, 8],\n",
    "  [1, 7],\n",
    "  [1, 4, 5],\n",
    "  [3, 5],\n",
    "  [3, 4],\n",
    "  [7],\n",
    "  [2, 6, 8],\n",
    "  [1, 7]\n",
    "]\n",
    "\n",
    "# 각 노드가 방문된 정보를 리스트 자료형으로 표현(1차원 리스트)\n",
    "visited = [False] * 9\n",
    "\n",
    "# 정의된 BFS 함수 호출\n",
    "bfs(graph, 1, visited)"
   ]
  },
  {
   "cell_type": "markdown",
   "metadata": {},
   "source": [
    "# eg"
   ]
  },
  {
   "cell_type": "markdown",
   "metadata": {},
   "source": [
    "## 음료수 얼려 먹기"
   ]
  },
  {
   "cell_type": "code",
   "execution_count": 5,
   "metadata": {},
   "outputs": [
    {
     "name": "stdout",
     "output_type": "stream",
     "text": [
      "4 5\n",
      "00110\n",
      "00011\n",
      "11111\n",
      "00000\n",
      "3\n"
     ]
    }
   ],
   "source": [
    "n, m = map(int, input().split())\n",
    "\n",
    "graph = []\n",
    "for i in range(n):\n",
    "    graph.append(list(map(int, input())))\n",
    "\n",
    "\n",
    "def dfs(x, y):\n",
    "    if (x <= -1 or x >= n or y <= -1 or y >= m):\n",
    "        return False\n",
    "\n",
    "    if graph[x][y] == 0:\n",
    "        graph[x][y] = 1\n",
    "        dfs(x-1, y)\n",
    "        dfs(x+1, y)\n",
    "        dfs(x, y+1)\n",
    "        dfs(x, y-1)\n",
    "        return True\n",
    "    return False\n",
    "\n",
    "\n",
    "result = 0\n",
    "for i in range(n):\n",
    "    for j in range(m):\n",
    "        if dfs(i, j) == True:\n",
    "            result += 1\n",
    "\n",
    "print(result)"
   ]
  },
  {
   "cell_type": "markdown",
   "metadata": {},
   "source": [
    "## 미로 탈출"
   ]
  },
  {
   "cell_type": "code",
   "execution_count": 15,
   "metadata": {
    "scrolled": true
   },
   "outputs": [
    {
     "name": "stdout",
     "output_type": "stream",
     "text": [
      "3 3\n",
      "110\n",
      "010\n",
      "011\n",
      "3\n"
     ]
    }
   ],
   "source": [
    "from collections import deque\n",
    "\n",
    "n, m = map(int, input().split())\n",
    "graph = []\n",
    "for i in range(n):\n",
    "    graph.append(list(map(int, input())))\n",
    "\n",
    "dx = [-1, 1, 0, 1]\n",
    "dy = [0, 0, -1, 1]\n",
    "\n",
    "\n",
    "def bfs(x, y):\n",
    "    queue = deque()\n",
    "    queue.append((x, y))\n",
    "    while queue:\n",
    "        x, y = queue.popleft()\n",
    "        for i in range(4):\n",
    "            nx = x+dx[i]\n",
    "            ny = y+dy[i]\n",
    "            if nx < 0 or ny < 0 or nx >= n or ny >= m:\n",
    "                continue\n",
    "            if graph[nx][ny] == 0:\n",
    "                continue\n",
    "            if graph[nx][ny] == 1:\n",
    "                graph[nx][ny] = graph[x][y]+1\n",
    "                queue.append((nx, ny))\n",
    "    return graph[n-1][m-1]\n",
    "\n",
    "\n",
    "print(bfs(0, 0))"
   ]
  },
  {
   "cell_type": "code",
   "execution_count": 14,
   "metadata": {},
   "outputs": [
    {
     "name": "stdout",
     "output_type": "stream",
     "text": [
      "3 3\n",
      "110\n",
      "010\n",
      "011\n",
      "5\n"
     ]
    }
   ],
   "source": [
    "from collections import deque\n",
    "\n",
    "# N, M을 공백을 기준으로 구분하여 입력 받기\n",
    "n, m = map(int, input().split())\n",
    "# 2차원 리스트의 맵 정보 입력 받기\n",
    "graph = []\n",
    "for i in range(n):\n",
    "    graph.append(list(map(int, input())))\n",
    "\n",
    "# 이동할 네 가지 방향 정의 (상, 하, 좌, 우)\n",
    "dx = [-1, 1, 0, 0]\n",
    "dy = [0, 0, -1, 1]\n",
    "\n",
    "# BFS 소스코드 구현\n",
    "def bfs(x, y):\n",
    "    # 큐(Queue) 구현을 위해 deque 라이브러리 사용\n",
    "    queue = deque()\n",
    "    queue.append((x, y))\n",
    "    # 큐가 빌 때까지 반복하기\n",
    "    while queue:\n",
    "        x, y = queue.popleft()\n",
    "        # 현재 위치에서 4가지 방향으로의 위치 확인\n",
    "        for i in range(4):\n",
    "            nx = x + dx[i]\n",
    "            ny = y + dy[i]\n",
    "            # 미로 찾기 공간을 벗어난 경우 무시\n",
    "            if nx < 0 or nx >= n or ny < 0 or ny >= m:\n",
    "                continue\n",
    "            # 벽인 경우 무시\n",
    "            if graph[nx][ny] == 0:\n",
    "                continue\n",
    "            # 해당 노드를 처음 방문하는 경우에만 최단 거리 기록\n",
    "            if graph[nx][ny] == 1:\n",
    "                graph[nx][ny] = graph[x][y] + 1\n",
    "                queue.append((nx, ny))\n",
    "    # 가장 오른쪽 아래까지의 최단 거리 반환\n",
    "    return graph[n - 1][m - 1]\n",
    "\n",
    "# BFS를 수행한 결과 출력\n",
    "print(bfs(0, 0))"
   ]
  },
  {
   "cell_type": "code",
   "execution_count": null,
   "metadata": {},
   "outputs": [],
   "source": []
  }
 ],
 "metadata": {
  "kernelspec": {
   "display_name": "Python 3",
   "language": "python",
   "name": "python3"
  },
  "language_info": {
   "codemirror_mode": {
    "name": "ipython",
    "version": 3
   },
   "file_extension": ".py",
   "mimetype": "text/x-python",
   "name": "python",
   "nbconvert_exporter": "python",
   "pygments_lexer": "ipython3",
   "version": "3.8.3"
  },
  "toc": {
   "base_numbering": 1,
   "nav_menu": {},
   "number_sections": true,
   "sideBar": true,
   "skip_h1_title": false,
   "title_cell": "Table of Contents",
   "title_sidebar": "Contents",
   "toc_cell": false,
   "toc_position": {},
   "toc_section_display": true,
   "toc_window_display": true
  }
 },
 "nbformat": 4,
 "nbformat_minor": 4
}
