{
 "cells": [
  {
   "cell_type": "code",
   "execution_count": 9,
   "metadata": {},
   "outputs": [
    {
     "name": "stdout",
     "output_type": "stream",
     "text": [
      "['2', '6', '1', '8', '3']\n",
      "['2', '6', '1', '8']\n"
     ]
    }
   ],
   "source": [
    "#Stack \n",
    "#날리면 제일 뒤에거 날린다 = 최근에 온거 날린다\n",
    "stack=[]\n",
    "stack.append('2')\n",
    "stack.append('6')\n",
    "stack.append('1')\n",
    "stack.append('8')\n",
    "stack.append('3')\n",
    "print(stack)\n",
    "stack.pop()\n",
    "print(stack)"
   ]
  },
  {
   "cell_type": "code",
   "execution_count": 18,
   "metadata": {},
   "outputs": [
    {
     "name": "stdout",
     "output_type": "stream",
     "text": [
      "deque(['2', '6', '1', '8', '3'])\n",
      "deque(['6', '1', '8', '3'])\n"
     ]
    }
   ],
   "source": [
    "#Queue\n",
    "from collections import deque\n",
    "queue= deque()\n",
    "queue.append('2')\n",
    "queue.append('6')\n",
    "queue.append('1')\n",
    "queue.append('8')\n",
    "queue.append('3')\n",
    "print(queue)\n",
    "queue.popleft()\n",
    "print(queue)\n"
   ]
  }
 ],
 "metadata": {
  "kernelspec": {
   "display_name": "Python 3",
   "language": "python",
   "name": "python3"
  },
  "language_info": {
   "codemirror_mode": {
    "name": "ipython",
    "version": 3
   },
   "file_extension": ".py",
   "mimetype": "text/x-python",
   "name": "python",
   "nbconvert_exporter": "python",
   "pygments_lexer": "ipython3",
   "version": "3.8.3"
  }
 },
 "nbformat": 4,
 "nbformat_minor": 4
}
