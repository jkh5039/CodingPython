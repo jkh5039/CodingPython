{
 "cells": [
  {
   "cell_type": "markdown",
   "metadata": {},
   "source": [
    "# 반복문"
   ]
  },
  {
   "cell_type": "code",
   "execution_count": 4,
   "metadata": {},
   "outputs": [
    {
     "name": "stdout",
     "output_type": "stream",
     "text": [
      "5\n",
      "6\n",
      "10 20 30 40 50\n",
      "40 10 35 15 40 20\n",
      "4 1 -1 -1 4 2 \n"
     ]
    }
   ],
   "source": [
    "n = int(input())\n",
    "m = int(input())\n",
    "data = list(map(int, input().split()))\n",
    "samples = map(int, input().split())\n",
    "\n",
    "for i in samples:\n",
    "    start = 0\n",
    "    end = n-1\n",
    "    while start <= end:\n",
    "        mid = (start + end) // 2\n",
    "        # 찾았다!\n",
    "        if data[mid] == i:\n",
    "            print(mid+1, end=\" \")\n",
    "            break\n",
    "        # 중간보다 찾으려는게 작으면 왼쪽\n",
    "        elif data[mid] > i:\n",
    "            end = mid - 1\n",
    "        # 중간보다 찾으려는게 크면 오른쪽\n",
    "        else:\n",
    "            start = mid + 1\n",
    "    # 결국 못찾음.\n",
    "    if start > end:\n",
    "        print(-1, end=\" \")\n",
    "print()"
   ]
  },
  {
   "cell_type": "markdown",
   "metadata": {},
   "source": [
    "# bisect 사용 (알아두면 좋다고함)"
   ]
  },
  {
   "cell_type": "code",
   "execution_count": 3,
   "metadata": {
    "scrolled": true
   },
   "outputs": [
    {
     "name": "stdout",
     "output_type": "stream",
     "text": [
      "Insert sorted Array item's number : 5\n",
      "Insert test item's number : 6\n",
      "Insert sorted Array : 10 20 30 40 50\n",
      "Insert search number : 40 10 35 15 40 20\n",
      "4 1 -1 -1 4 2 \n"
     ]
    }
   ],
   "source": [
    "import bisect\n",
    "\n",
    "n = int(input(\"Insert sorted Array item's number : \"))\n",
    "m = int(input(\"Insert test item's number : \"))\n",
    "data = list(map(int, input(\"Insert sorted Array : \").split()))\n",
    "generator_factor = map(int, input(\"Insert search number : \").split())\n",
    "\n",
    "for i in generator_factor:\n",
    "    left_value = bisect.bisect_left(data, i)\n",
    "    right_value = bisect.bisect_right(data, i)\n",
    "    if right_value-left_value != 0:\n",
    "        print(right_value, end=\" \")\n",
    "    else:\n",
    "        print(-1, end=\" \")\n",
    "\n",
    "print()"
   ]
  },
  {
   "cell_type": "markdown",
   "metadata": {},
   "source": [
    "# 재귀"
   ]
  },
  {
   "cell_type": "code",
   "execution_count": 5,
   "metadata": {},
   "outputs": [
    {
     "name": "stdout",
     "output_type": "stream",
     "text": [
      "Insert sorted Array item's number : 5\n",
      "Insert test item's number : 6\n",
      "Insert sorted Array : 10 20 30 40 50\n",
      "Insert search number : 40 10 35 15 40 20\n",
      "4 1 -1 -1 4 2 \n"
     ]
    }
   ],
   "source": [
    "n = int(input(\"Insert sorted Array item's number : \"))\n",
    "m = int(input(\"Insert test item's number : \"))\n",
    "data = list(map(int, input(\"Insert sorted Array : \").split()))\n",
    "generator_factor = map(int, input(\"Insert search number : \").split())\n",
    "\n",
    "\n",
    "def binary_search_recursion(array, target, start, end):\n",
    "    if start > end:\n",
    "        return -1\n",
    "    mid = (start + end) // 2\n",
    "    # 찾은경우 중간 인덱스 반환\n",
    "    if array[mid] == target:\n",
    "        return mid+1\n",
    "    # 중간점 보다 찾으려는게 값이 작음 > 왼쪽\n",
    "    elif array[mid] > target:\n",
    "        return binary_search_recursion(array, target, start, mid-1)\n",
    "    # 중간점 보다 찾으려는게 큼 > 오른쪽\n",
    "    elif array[mid] < target:\n",
    "        return binary_search_recursion(array, target, mid+1, end)\n",
    "\n",
    "\n",
    "for i in generator_factor:\n",
    "    print(binary_search_recursion(data, i, 0, n-1), end=\" \")\n",
    "print()"
   ]
  }
 ],
 "metadata": {
  "kernelspec": {
   "display_name": "Python 3",
   "language": "python",
   "name": "python3"
  },
  "language_info": {
   "codemirror_mode": {
    "name": "ipython",
    "version": 3
   },
   "file_extension": ".py",
   "mimetype": "text/x-python",
   "name": "python",
   "nbconvert_exporter": "python",
   "pygments_lexer": "ipython3",
   "version": "3.8.3"
  },
  "toc": {
   "base_numbering": 1,
   "nav_menu": {},
   "number_sections": true,
   "sideBar": true,
   "skip_h1_title": false,
   "title_cell": "Table of Contents",
   "title_sidebar": "Contents",
   "toc_cell": false,
   "toc_position": {},
   "toc_section_display": true,
   "toc_window_display": false
  }
 },
 "nbformat": 4,
 "nbformat_minor": 4
}
