{
 "cells": [
  {
   "cell_type": "markdown",
   "metadata": {},
   "source": [
    "# Stack\n"
   ]
  },
  {
   "cell_type": "code",
   "execution_count": 9,
   "metadata": {},
   "outputs": [
    {
     "name": "stdout",
     "output_type": "stream",
     "text": [
      "['2', '6', '1', '8', '3']\n",
      "['2', '6', '1', '8']\n"
     ]
    }
   ],
   "source": [
    "# Stack\n",
    "# 날리면 제일 뒤에거 날린다 = 최근에 온거 날린다\n",
    "stack = []\n",
    "stack.append('2')\n",
    "stack.append('6')\n",
    "stack.append('1')\n",
    "stack.append('8')\n",
    "stack.append('3')\n",
    "print(stack)\n",
    "stack.pop()\n",
    "print(stack)"
   ]
  },
  {
   "cell_type": "markdown",
   "metadata": {},
   "source": [
    "# Queue\n"
   ]
  },
  {
   "cell_type": "code",
   "execution_count": 21,
   "metadata": {},
   "outputs": [
    {
     "name": "stdout",
     "output_type": "stream",
     "text": [
      "deque(['2', '6', '1', '8', '3'])\n",
      "deque(['6', '1', '8', '3'])\n"
     ]
    }
   ],
   "source": [
    "# Queue\n",
    "from collections import deque\n",
    "queue = deque()\n",
    "queue.append('2')\n",
    "queue.append('6')\n",
    "queue.append('1')\n",
    "queue.append('8')\n",
    "queue.append('3')\n",
    "print(queue)\n",
    "queue.popleft()\n",
    "print(queue)"
   ]
  },
  {
   "cell_type": "code",
   "execution_count": 24,
   "metadata": {},
   "outputs": [
    {
     "name": "stdout",
     "output_type": "stream",
     "text": [
      "1\n"
     ]
    }
   ],
   "source": [
    "#재귀\n",
    "def recursive_function():\n",
    "    print(\"재귀 함수 호출\")\n",
    "    recursive_function()\n",
    "recursive_function()\n"
   ]
  },
  {
   "cell_type": "code",
   "execution_count": 35,
   "metadata": {},
   "outputs": [
    {
     "name": "stdout",
     "output_type": "stream",
     "text": [
      "0 번째 재귀 함수에서 1 번째 재귀 함수를 호출합니다\n",
      "1 번째 재귀 함수에서 2 번째 재귀 함수를 호출합니다\n",
      "2 번째 재귀 함수에서 3 번째 재귀 함수를 호출합니다\n",
      "3 번째 재귀 함수에서 4 번째 재귀 함수를 호출합니다\n",
      "4 번째 재귀 함수에서 5 번째 재귀 함수를 호출합니다\n",
      "5 번째 재귀 함수에서 6 번째 재귀 함수를 호출합니다\n",
      "6 번째 재귀 함수에서 7 번째 재귀 함수를 호출합니다\n",
      "7 번째 재귀 함수에서 8 번째 재귀 함수를 호출합니다\n",
      "8 번째 재귀 함수에서 9 번째 재귀 함수를 호출합니다\n",
      "9 번째 재귀 함수에서 10 번째 재귀 함수를 호출합니다\n",
      "10 번째 재귀 함수에서 11 번째 재귀 함수를 호출합니다\n",
      "11 번째 재귀 함수에서 12 번째 재귀 함수를 호출합니다\n",
      "12 번째 재귀 함수에서 13 번째 재귀 함수를 호출합니다\n",
      "13 번째 재귀 함수에서 14 번째 재귀 함수를 호출합니다\n",
      "14 번째 재귀 함수에서 15 번째 재귀 함수를 호출합니다\n",
      "15 번째 재귀 함수에서 16 번째 재귀 함수를 호출합니다\n",
      "16 번째 재귀 함수에서 17 번째 재귀 함수를 호출합니다\n",
      "17 번째 재귀 함수에서 18 번째 재귀 함수를 호출합니다\n",
      "18 번째 재귀 함수에서 19 번째 재귀 함수를 호출합니다\n",
      "19 번째 재귀 함수에서 20 번째 재귀 함수를 호출합니다\n",
      "19 번쨰 재귀 함수를 종료합니다\n",
      "18 번쨰 재귀 함수를 종료합니다\n",
      "17 번쨰 재귀 함수를 종료합니다\n",
      "16 번쨰 재귀 함수를 종료합니다\n",
      "15 번쨰 재귀 함수를 종료합니다\n",
      "14 번쨰 재귀 함수를 종료합니다\n",
      "13 번쨰 재귀 함수를 종료합니다\n",
      "12 번쨰 재귀 함수를 종료합니다\n",
      "11 번쨰 재귀 함수를 종료합니다\n",
      "10 번쨰 재귀 함수를 종료합니다\n",
      "9 번쨰 재귀 함수를 종료합니다\n",
      "8 번쨰 재귀 함수를 종료합니다\n",
      "7 번쨰 재귀 함수를 종료합니다\n",
      "6 번쨰 재귀 함수를 종료합니다\n",
      "5 번쨰 재귀 함수를 종료합니다\n",
      "4 번쨰 재귀 함수를 종료합니다\n",
      "3 번쨰 재귀 함수를 종료합니다\n",
      "2 번쨰 재귀 함수를 종료합니다\n",
      "1 번쨰 재귀 함수를 종료합니다\n",
      "0 번쨰 재귀 함수를 종료합니다\n"
     ]
    }
   ],
   "source": [
    "def recur_function(i):\n",
    "    if(i == 20):\n",
    "        return\n",
    "    print(i, '번째 재귀 함수에서', i+1, '번째 재귀 함수를 호출합니다')\n",
    "    recur_function(i+1)\n",
    "    print(i, '번쨰 재귀 함수를 종료합니다')\n",
    "\n",
    "\n",
    "recur_function(0)"
   ]
  }
 ],
 "metadata": {
  "kernelspec": {
   "display_name": "Python 3",
   "language": "python",
   "name": "python3"
  },
  "language_info": {
   "codemirror_mode": {
    "name": "ipython",
    "version": 3
   },
   "file_extension": ".py",
   "mimetype": "text/x-python",
   "name": "python",
   "nbconvert_exporter": "python",
   "pygments_lexer": "ipython3",
   "version": "3.8.3"
  },
  "toc": {
   "base_numbering": 1,
   "nav_menu": {},
   "number_sections": true,
   "sideBar": true,
   "skip_h1_title": false,
   "title_cell": "Table of Contents",
   "title_sidebar": "Contents",
   "toc_cell": false,
   "toc_position": {},
   "toc_section_display": true,
   "toc_window_display": true
  }
 },
 "nbformat": 4,
 "nbformat_minor": 4
}
