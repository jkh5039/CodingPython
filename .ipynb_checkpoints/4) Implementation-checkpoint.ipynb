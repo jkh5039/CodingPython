{
 "cells": [
  {
   "cell_type": "code",
   "execution_count": 42,
   "metadata": {},
   "outputs": [
    {
     "data": {
      "text/html": [
       "<style>.container { width:95% !important; }</style>"
      ],
      "text/plain": [
       "<IPython.core.display.HTML object>"
      ]
     },
     "metadata": {},
     "output_type": "display_data"
    },
    {
     "data": {
      "text/html": [
       "<style>.input_area pre {font-family: Consolas; font-size: 12pt; line-height: 120%;}</style>"
      ],
      "text/plain": [
       "<IPython.core.display.HTML object>"
      ]
     },
     "metadata": {},
     "output_type": "display_data"
    },
    {
     "data": {
      "text/html": [
       "<style>.output_area pre {font-family: Consolas; font-size: 12pt; line-height: 120%;}</style>"
      ],
      "text/plain": [
       "<IPython.core.display.HTML object>"
      ]
     },
     "metadata": {},
     "output_type": "display_data"
    }
   ],
   "source": [
    "from IPython.core.display import display, HTML\n",
    "display(HTML(\"<style>.container { width:95% !important; }</style>\"))\n",
    "display(HTML(\"<style>.input_area pre {font-family: Consolas; font-size: 12pt; line-height: 120%;}</style>\"))\n",
    "display(HTML(\"<style>.output_area pre {font-family: Consolas; font-size: 12pt; line-height: 120%;}</style>\"))\n",
    "\n",
    "\n",
    "from IPython.core.interactiveshell import InteractiveShell\n",
    "InteractiveShell.ast_node_interactivity = 'all'\n"
   ]
  },
  {
   "cell_type": "code",
   "execution_count": 49,
   "metadata": {},
   "outputs": [
    {
     "name": "stdout",
     "output_type": "stream",
     "text": [
      "5\n",
      "R R R U D D\n",
      "4 3\n"
     ]
    }
   ],
   "source": [
    "#UDRL\n",
    "n= int(input())\n",
    "x,y =1,1\n",
    "nx,ny=x, y\n",
    "\n",
    "plans= input().split()\n",
    "\n",
    "dx= [0,0,-1,1]\n",
    "dy= [-1,1,0,0]\n",
    "move_types= ['U','D','L','R']\n",
    "\n",
    "for plan in plans:\n",
    "    for i in range(len(move_types)):\n",
    "        if plan== move_types[i]:\n",
    "            nx= x+dx[i]\n",
    "            ny= y+dy[i]\n",
    "        if nx<1 or ny<1 or nx>n or ny>n:\n",
    "            continue\n",
    "        x,y= nx, ny\n",
    "print(x, y)\n",
    "    \n"
   ]
  },
  {
   "cell_type": "code",
   "execution_count": 53,
   "metadata": {},
   "outputs": [
    {
     "name": "stdout",
     "output_type": "stream",
     "text": [
      "5\n",
      "55959\n",
      "11475\n"
     ]
    }
   ],
   "source": [
    "#Time\n",
    "n= int(input())\n",
    "cnt=0\n",
    "for i in range(n+1):\n",
    "    for j in range(60):\n",
    "        for k in range(60):\n",
    "            if '3' in (str(i)+str(j)+str(k)):\n",
    "                cnt+=1\n",
    "                \n",
    "\n",
    "print(cnt)"
   ]
  },
  {
   "cell_type": "code",
   "execution_count": 62,
   "metadata": {
    "scrolled": true
   },
   "outputs": [
    {
     "name": "stdout",
     "output_type": "stream",
     "text": [
      "a1\n",
      "1\n",
      "1\n",
      "2\n"
     ]
    }
   ],
   "source": [
    "#Chess\n",
    "data= input()\n",
    "cnt=0\n",
    "steps=[(-2,1),(-2,1),(-1,2),(-1,-2),(1,2),(1,-2),(2,1),(2,-1)]\n",
    "col= int(ord(data[0]))-int(ord('a'))+1\n",
    "row= int(data[1])\n",
    "print(col)\n",
    "print(row)\n",
    "for step in steps:\n",
    "    nextRow= row+ step[0]\n",
    "    nextCol= col+ step[1]\n",
    "    if nextRow>=1 and nextRow<8 and nextCol>=1 and nextCol<=8:\n",
    "        cnt+=1\n",
    "print(cnt)"
   ]
  },
  {
   "cell_type": "code",
   "execution_count": 64,
   "metadata": {},
   "outputs": [],
   "source": [
    "#game developing\n",
    "\n",
    "#setting\n",
    "# n,m= map(int, input().split())\n",
    "\n",
    "#step 1\n",
    "#현재 방향에서 왼쪽으로 돈다\n",
    "#만약 가보지 않는곳이라면 2단계\n",
    "\n",
    "#step 2\n",
    "#앞으로전진\n",
    "#왼쪽으로 회전\n",
    "#갈수있으면 전진\n",
    "#갈수없으면 1단계\n",
    "\n",
    "#step 3\n",
    "#4번 다돌았는데 가보거나 바다 칸이면\n",
    "#뒤로한칸가고\n",
    "#1단계로 넘어간다"
   ]
  },
  {
   "cell_type": "code",
   "execution_count": 66,
   "metadata": {},
   "outputs": [
    {
     "name": "stdout",
     "output_type": "stream",
     "text": [
      "4 4\n",
      "1 1 0\n",
      "1 1 1 1\n",
      "1 0 0 1\n",
      "1 1 0 1\n",
      "1 1 1 1\n",
      "3\n"
     ]
    }
   ],
   "source": [
    "#game developing\n",
    "\n",
    "# 정보\n",
    "# 0:북, 1:동, 2:남, 3:서\n",
    "# 0:육지 1:바다\n",
    "\n",
    "#세로크기 n 가로크기 m\n",
    "n,m= map(int, input().split())\n",
    "d= [[0]* m for _ in range(n)] #<<도저히 이해가 안감 무슨뜻이지\n",
    "x,y,direction= map(int, input().split())\n",
    "d[x][y]=1\n",
    "\n",
    "#맵정보 받아오기\n",
    "array=[]\n",
    "for i in range(n):\n",
    "    array.append(list(map(int,input().split())))\n",
    "\n",
    "#북동남서\n",
    "dx= [-1,0,1,0]\n",
    "dy= [0,1,0,-1]\n",
    "\n",
    "#왼쪽으로 회전 (1단계)\n",
    "def turn_left():\n",
    "    global direction\n",
    "    # 왼쪽으로 회전한다\n",
    "    direction -=1\n",
    "    if direction==-1:\n",
    "        direction=3\n",
    "\n",
    "cnt= 1\n",
    "turn_time= 0\n",
    "while(True):\n",
    "    turn_left()\n",
    "    nx= x+ dx[direction]\n",
    "    ny= y+ dy[direction]\n",
    "    \n",
    "    if d[nx][ny]==0 and array[nx][ny]==0:\n",
    "        d[nx][ny]= 1\n",
    "        x= nx\n",
    "        y= ny\n",
    "        cnt+= 1\n",
    "        turn_tume=0\n",
    "        continue\n",
    "    else:\n",
    "        turn_time+= 1\n",
    "        \n",
    "    # 3    \n",
    "    if turn_time==4:\n",
    "        nx= x-dx[direction]\n",
    "        ny= y-dx[direction]\n",
    "        \n",
    "        if array[nx][ny]==0:\n",
    "            x= nx\n",
    "            y= ny\n",
    "        else:\n",
    "            break\n",
    "        turn_time=0\n",
    "print(cnt)\n",
    "\n",
    "     "
   ]
  },
  {
   "cell_type": "code",
   "execution_count": null,
   "metadata": {},
   "outputs": [],
   "source": [
    "#ㅂ"
   ]
  },
  {
   "cell_type": "code",
   "execution_count": null,
   "metadata": {},
   "outputs": [],
   "source": []
  }
 ],
 "metadata": {
  "kernelspec": {
   "display_name": "Python 3",
   "language": "python",
   "name": "python3"
  },
  "language_info": {
   "codemirror_mode": {
    "name": "ipython",
    "version": 3
   },
   "file_extension": ".py",
   "mimetype": "text/x-python",
   "name": "python",
   "nbconvert_exporter": "python",
   "pygments_lexer": "ipython3",
   "version": "3.8.3"
  }
 },
 "nbformat": 4,
 "nbformat_minor": 4
}
